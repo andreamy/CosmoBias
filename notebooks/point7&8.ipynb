{
 "cells": [
  {
   "cell_type": "code",
   "execution_count": 1,
   "metadata": {},
   "outputs": [],
   "source": [
    "import sys\n",
    "import importlib\n",
    "sys.path.append('../PyScripts/')\n",
    "\n",
    "import utils.function_library \n",
    "importlib.reload(utils.function_library)\n",
    "from utils.function_library import *"
   ]
  },
  {
   "cell_type": "markdown",
   "metadata": {},
   "source": [
    "### Point 7"
   ]
  },
  {
   "cell_type": "markdown",
   "metadata": {},
   "source": [
    "####  Calculating how each parameter will be biased if the free parameters of the covmat are varied. e.g. n_eff or A_sky, or the fiducial cosmology"
   ]
  },
  {
   "cell_type": "code",
   "execution_count": null,
   "metadata": {},
   "outputs": [],
   "source": [
    "# Load data\n",
    "mu_standard = np.reshape(np.load(\"../CosmoCov/covs/xipm/ng_standard/\"\n",
    "                                 \"vector_xipm_kids_ng_standard.npy\"), (-1,1))\n",
    "covmat_point3 = np.load(\"../Output/covmats/CovMatrix_kids_ng_h_0.74.npy\")\n",
    "xmatrix_filename = \"Xmatrix_ng_standard.npy\"\n",
    "Xmatrix_point3 = np.load(xmatrix_filename) "
   ]
  },
  {
   "cell_type": "code",
   "execution_count": null,
   "metadata": {},
   "outputs": [],
   "source": [
    "#Compute linear best-fit for the fiducial covariance and the shifted one\n",
    "initial_linear_parameters = linear_theta(Xmatrix_point3, sigma, mu_standard, \n",
    "                                         data_xipm, cosmo_params)[:,0]\n",
    "new_linear_parameters = linear_theta(Xmatrix_point3, covmat_point3, mu_standard,\n",
    "                                     data_xipm, cosmo_params)[:,0]\n",
    "\n",
    "#Compute bias in the cosmological parameters due to the shifted covariance matrix \n",
    "free_param_bias = new_linear_parameters - initial_linear_parameters \n",
    "free_param_bias"
   ]
  },
  {
   "cell_type": "code",
   "execution_count": null,
   "metadata": {},
   "outputs": [],
   "source": [
    "#Normalize the bias in units of standard deviations\n",
    "free_param_bias_persigma = [free_param_bias[i]/denom_list[j]*100 \n",
    "                            for i,j in zip([0,2,3,6,7],range(len(denom_list)))]\n",
    "free_param_bias_persigma"
   ]
  },
  {
   "cell_type": "markdown",
   "metadata": {},
   "source": [
    "### Point 8"
   ]
  },
  {
   "cell_type": "markdown",
   "metadata": {},
   "source": [
    "#### A preliminary recommendation for the precision each covmat element must have to avoid biases in the cosmological parameters at KiDS precision.\n"
   ]
  },
  {
   "cell_type": "code",
   "execution_count": null,
   "metadata": {},
   "outputs": [],
   "source": [
    "#THEORY VECTOR\n",
    "mu_cosmolike = np.reshape(np.load(\"../Output/xipm/NTI_flatsky/vector_xipm_kids_NTI_flatsky.npy\"), (-1,1))\n",
    "\n",
    "#THEORY COVARIANCE MATRIX\n",
    "sigma = np.load(\"../Output/covmats/CovMatrix_NTI_flatsky.npy\")\n",
    "\n",
    "#DATA VECTOR\n",
    "kids_file = np.loadtxt(\"../KiDS1000_cosmis_shear_data_release/data_fits/data_xipm\")\n",
    "data_xipm = np.reshape(kids_file[:,1], (-1,1))\n",
    "\n",
    "#cosmological parameters\n",
    "cosmo_params = get_cosmological_parameters(cosmolike_inifile, N_parameters)\n",
    "\n",
    "#load X matrix\n",
    "Xmatrix = np.load('../Output/Xmatrices/X_NTI_flatsky.npy')"
   ]
  },
  {
   "cell_type": "code",
   "execution_count": null,
   "metadata": {},
   "outputs": [],
   "source": [
    "# Compute a 3D-array that contains matrices for each parameter with the recommended \n",
    "    # precision per element.\n",
    "recommend_covmat_precision_3D = precision_recommendation(Xmatrix, sigma, \n",
    "                                                         mu_cosmolike, data_xipm,\n",
    "                                                         cosmo_params)"
   ]
  },
  {
   "cell_type": "code",
   "execution_count": null,
   "metadata": {
    "scrolled": true
   },
   "outputs": [],
   "source": [
    "# Plot one of the parameter matrices as a colormap\n",
    "plot_matrix_colormap(recommend_covmat_precision_3D[3], colormap='Reds_r',\n",
    "                     pngfilename='recommendedprecision',\n",
    "                     title=None)"
   ]
  }
 ],
 "metadata": {
  "kernelspec": {
   "display_name": "Python 3",
   "language": "python",
   "name": "python3"
  },
  "language_info": {
   "codemirror_mode": {
    "name": "ipython",
    "version": 3
   },
   "file_extension": ".py",
   "mimetype": "text/x-python",
   "name": "python",
   "nbconvert_exporter": "python",
   "pygments_lexer": "ipython3",
   "version": "3.6.9"
  }
 },
 "nbformat": 4,
 "nbformat_minor": 4
}
