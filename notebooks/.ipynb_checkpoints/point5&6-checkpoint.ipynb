{
 "cells": [
  {
   "cell_type": "code",
   "execution_count": 1,
   "metadata": {},
   "outputs": [],
   "source": [
    "import sys\n",
    "import importlib\n",
    "sys.path.append('../PyScripts/')\n",
    "\n",
    "import utils.function_library \n",
    "importlib.reload(utils.function_library)\n",
    "from utils.function_library import *"
   ]
  },
  {
   "cell_type": "markdown",
   "metadata": {},
   "source": [
    "### Point 5"
   ]
  },
  {
   "cell_type": "markdown",
   "metadata": {},
   "source": [
    "#### Which parameter will be most biased if the covmat is wrong?\n",
    "\n",
    "Example:"
   ]
  },
  {
   "cell_type": "code",
   "execution_count": null,
   "metadata": {},
   "outputs": [],
   "source": [
    "\n",
    "#load shift matrix\n",
    "shift_matrix_up = np.load(\"parameter_shifts_1.05_class3.0_closer_derivative.npy\")\n",
    "\n",
    "#Normalise and sort\n",
    "normalised_shift_up = normalise_shifts(shift_matrix_up)\n",
    "ranked_shifts = rank_parameter_shifts(normalised_shift_up)\n",
    "print(ranked_shifts)"
   ]
  },
  {
   "cell_type": "markdown",
   "metadata": {},
   "source": [
    "### Point 6"
   ]
  },
  {
   "cell_type": "markdown",
   "metadata": {},
   "source": [
    "#### Which elements of the covmat cause the biggest biases when wrong?\n"
   ]
  },
  {
   "cell_type": "code",
   "execution_count": null,
   "metadata": {},
   "outputs": [],
   "source": [
    "largest_values(normalised_shift_up, 10)\n",
    "\"\"\"The diagonal elements, especially for parameter w_0\"\"\""
   ]
  },
  {
   "cell_type": "code",
   "execution_count": null,
   "metadata": {},
   "outputs": [],
   "source": [
    "\"\"\"For each matrix individually, the 10 largest biases:\"\"\"\n",
    "j = 0\n",
    "for i in cosmo_params:\n",
    "    print(\"The largest biases for \", i, \"are in the indices: \")\n",
    "    print(largest_values(normalised_shift_up[:,:,j], 10),\"\\n\")\n",
    "    j = j+1"
   ]
  },
  {
   "cell_type": "code",
   "execution_count": null,
   "metadata": {},
   "outputs": [],
   "source": [
    "\"\"\"For the matrix as a whole, the 10 largest biases. \n",
    "To do that, calculate the vector magnitude and check largest bias as a whole\"\"\"\n",
    "shift_vector_magnitudes = np.zeros(shape = (N_dim, N_dim))\n",
    "\n",
    "for i in range(N_dim):\n",
    "    for j in range(i, N_dim):\n",
    "        shift_vector_magnitudes[i,j] = np.sqrt(np.dot(normalised_shift_up[i,j],\n",
    "                                                      normalised_shift_up[i,j]))\n",
    "        \n",
    "print(\"The largest biases in vector magnitude \", i, \"are due to the indices: \\n\",\n",
    "      largest_values(shift_vector_magnitudes, 10))"
   ]
  }
 ],
 "metadata": {
  "kernelspec": {
   "display_name": "Python 3",
   "language": "python",
   "name": "python3"
  },
  "language_info": {
   "codemirror_mode": {
    "name": "ipython",
    "version": 3
   },
   "file_extension": ".py",
   "mimetype": "text/x-python",
   "name": "python",
   "nbconvert_exporter": "python",
   "pygments_lexer": "ipython3",
   "version": "3.6.9"
  }
 },
 "nbformat": 4,
 "nbformat_minor": 4
}
