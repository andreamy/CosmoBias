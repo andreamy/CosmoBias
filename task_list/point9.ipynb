{
 "cells": [
  {
   "cell_type": "markdown",
   "metadata": {},
   "source": [
    "### Point 9"
   ]
  },
  {
   "cell_type": "code",
   "execution_count": null,
   "metadata": {
    "scrolled": true
   },
   "outputs": [],
   "source": [
    "fake_theory_vector = np.reshape(np.load(\"../CosmoCov/covs/xipm/euklids_6_zbins/\"\n",
    "                             \"vector_xipm_kids_euklids_6_zbins.npy\"), (-1,1))\n",
    "fake_covmat = np.load(\"../notebooks/CovMatrix_euklids_6_zbins.npy\") \n",
    "fake_data_vector = np.random.multivariate_normal(mean=fake_theory_vector[:,0],\n",
    "                                                 cov=fake_covmat) \n",
    "\n",
    "\n",
    "cosmo_params_newthetaI =  {\"Omega_m\":0.24, \"Omega_v\":0.69, \"sigma_8\":0.85,\n",
    "                           \"w0\":-1.0, \"wa\":0.0, \"n_spec\":0.90, \"omb\":0.042,\n",
    "                           \"h0\":0.68, } \n",
    "\n",
    "euklids_inifile = '../CosmoCov/covs/ini_files/cov_euklids.ini'\n"
   ]
  },
  {
   "cell_type": "code",
   "execution_count": null,
   "metadata": {},
   "outputs": [],
   "source": [
    "subprocess.run(['cp', '../CosmoCov/covs/ini_files/cov_euklids_copy.ini',\n",
    "            euklids_inifile], stdout=subprocess.PIPE, universal_newlines=True)\n",
    "\n",
    "Xmatrix = create_X_matrix(\"euklids_6_zbins\", fake_theory_vector,\n",
    "                            euklids_inifile, N_parameters = 8, euklids=True)\n",
    "\n",
    "np.save(\"X_euklids_6bins.npy\", Xmatrix)"
   ]
  },
  {
   "cell_type": "code",
   "execution_count": null,
   "metadata": {},
   "outputs": [],
   "source": [
    "X_euklids = np.load(\"X_euklids_5bins.npy\")\n",
    "shift_euklids_5bins = shift_covmat_elements(\"euklids_5bins\",X_euklids, \n",
    "                                            fake_covmat, fake_theory_vector, \n",
    "                                            fake_data_vector,\n",
    "                                             cosmo_params_newthetaI, 'up')"
   ]
  },
  {
   "cell_type": "code",
   "execution_count": null,
   "metadata": {},
   "outputs": [],
   "source": [
    "X_euklids = np.load(\"X_euklids_6bins.npy\")\n",
    "shift_euklids_6bins = shift_covmat_elements(\"euklids_6bins\",X_euklids, \n",
    "                                            fake_covmat, fake_theory_vector, \n",
    "                                            fake_data_vector, \n",
    "                                            cosmo_params_newthetaI, 'up')\n"
   ]
  },
  {
   "cell_type": "code",
   "execution_count": null,
   "metadata": {},
   "outputs": [],
   "source": [
    "euklids_bias_5bins = np.array([shift_euklids_5bins[:,:,i]/denom_list[j]*100 \n",
    "                               for i,j in zip([0,2,3,6,7],\n",
    "                                              range(len(denom_list)))])\n",
    "euklids_bias_6bins = np.array([shift_euklids_6bins[:,:,i]/denom_list[j]*100 \n",
    "                               for i,j in zip([0,2,3,6,7],\n",
    "                                              range(len(denom_list)))])"
   ]
  },
  {
   "cell_type": "code",
   "execution_count": null,
   "metadata": {
    "scrolled": true
   },
   "outputs": [],
   "source": [
    "np.set_printoptions(suppress=True) #if False, scientific notation on\n",
    "parameter_bias_5bins = euklids_scalar_bias(euklids_bias_5bins)\n",
    "parameter_bias_5bins"
   ]
  },
  {
   "cell_type": "code",
   "execution_count": null,
   "metadata": {},
   "outputs": [],
   "source": [
    "parameter_bias_6bins =euklids_scalar_bias(euklids_bias_6bins)\n",
    "parameter_bias_6bins"
   ]
  },
  {
   "cell_type": "code",
   "execution_count": null,
   "metadata": {},
   "outputs": [],
   "source": [
    "fig, ax = plt.subplots(1,5, figsize=(12,2), sharex=True)\n",
    "axes = plt.gca()\n",
    "axes.yaxis.label.set_size(20)\n",
    "\n",
    "for i in range(5):\n",
    "    ax[i].plot([5], [parameter_bias_5bins[i]], '.', markersize=10)\n",
    "    ax[i].plot([6], [parameter_bias_6bins[i]], '.',  markersize=10)\n",
    "    \n",
    "    ax[i].set_xlabel(ylabel_list[i], fontsize=20) \n",
    "\n",
    "                   \n",
    "#fig.subplots_adjust(wspace=0.05, hspace=0.05)\n",
    "ax[0].set_ylabel(r\"$\\frac{\\theta_{lin} - \\hat{\\theta}_lin}{\\sigma_i}$\", \n",
    "                 fontsize=20)\n",
    "\n",
    "plt.subplots_adjust(top = 0.98, bottom = 0.02, right = 1, left = 0, \n",
    "                    hspace = 0.07, wspace = 0.05)\n",
    "fig.tight_layout()\n",
    "fig.savefig('point9_scalarbias_zbins.pdf')"
   ]
  },
  {
   "cell_type": "code",
   "execution_count": null,
   "metadata": {},
   "outputs": [],
   "source": []
  }
 ],
 "metadata": {
  "kernelspec": {
   "display_name": "Python 3",
   "language": "python",
   "name": "python3"
  },
  "language_info": {
   "codemirror_mode": {
    "name": "ipython",
    "version": 3
   },
   "file_extension": ".py",
   "mimetype": "text/x-python",
   "name": "python",
   "nbconvert_exporter": "python",
   "pygments_lexer": "ipython3",
   "version": "3.6.9"
  }
 },
 "nbformat": 4,
 "nbformat_minor": 4
}
