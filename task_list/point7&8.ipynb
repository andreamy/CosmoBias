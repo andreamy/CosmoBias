{
 "cells": [
  {
   "cell_type": "markdown",
   "metadata": {},
   "source": [
    "### Point 7"
   ]
  },
  {
   "cell_type": "code",
   "execution_count": null,
   "metadata": {},
   "outputs": [],
   "source": [
    "mu_standard = np.reshape(np.load(\"../CosmoCov/covs/xipm/ng_standard/\"\n",
    "                                 \"vector_xipm_kids_ng_standard.npy\"), (-1,1))\n",
    "covmat_point3 = np.load(\"../notebooks/CovMatrix_kids_ng_h_0.74.npy\")\n",
    "xmatrix_filename = \"Xmatrix_ng_standard.npy\"\n",
    "Xmatrix_point3 = np.load(xmatrix_filename) \n"
   ]
  },
  {
   "cell_type": "code",
   "execution_count": null,
   "metadata": {},
   "outputs": [],
   "source": [
    "initial_linear_parameters = linear_theta(Xmatrix_point3, sigma, mu_standard, \n",
    "                                         data_xipm, cosmo_params)[:,0]\n",
    "new_linear_parameters = linear_theta(Xmatrix_point3, covmat_point3, mu_standard,\n",
    "                                     data_xipm, cosmo_params)[:,0]\n",
    "free_param_bias = new_linear_parameters - initial_linear_parameters \n",
    "free_param_bias"
   ]
  },
  {
   "cell_type": "code",
   "execution_count": null,
   "metadata": {},
   "outputs": [],
   "source": [
    "free_param_bias_persigma = [free_param_bias[i]/denom_list[j]*100 \n",
    "                            for i,j in zip([0,2,3,6,7],range(len(denom_list)))]\n",
    "free_param_bias_persigma"
   ]
  },
  {
   "cell_type": "markdown",
   "metadata": {},
   "source": [
    "### Point 8"
   ]
  },
  {
   "cell_type": "code",
   "execution_count": null,
   "metadata": {},
   "outputs": [],
   "source": [
    "recommend_covmat_precision_3D = precision_recommendation(Xmatrix, sigma, \n",
    "                                                         mu_cosmolike, data_xipm,\n",
    "                                                         cosmo_params)"
   ]
  },
  {
   "cell_type": "code",
   "execution_count": null,
   "metadata": {
    "scrolled": true
   },
   "outputs": [],
   "source": [
    "plot_matrix_colormap(recommend_covmat_precision_3D[3], colormap='Reds_r',\n",
    "                     pngfilename='recommendedprecision',\n",
    "                     title=None)"
   ]
  },
  {
   "cell_type": "code",
   "execution_count": null,
   "metadata": {},
   "outputs": [],
   "source": []
  }
 ],
 "metadata": {
  "kernelspec": {
   "display_name": "Python 3",
   "language": "python",
   "name": "python3"
  },
  "language_info": {
   "codemirror_mode": {
    "name": "ipython",
    "version": 3
   },
   "file_extension": ".py",
   "mimetype": "text/x-python",
   "name": "python",
   "nbconvert_exporter": "python",
   "pygments_lexer": "ipython3",
   "version": "3.6.9"
  }
 },
 "nbformat": 4,
 "nbformat_minor": 4
}
