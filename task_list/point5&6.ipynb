{
 "cells": [
  {
   "cell_type": "markdown",
   "metadata": {},
   "source": [
    "### Point 5"
   ]
  },
  {
   "cell_type": "code",
   "execution_count": null,
   "metadata": {},
   "outputs": [],
   "source": [
    "def rank_parameter_shifts(shift_matrix):\n",
    "    #first normalise shifts, and then add up everything\n",
    "    N_dim = 270\n",
    "    total_shift = np.zeros((N_parameters,))\n",
    "    normalised_shift = np.zeros(shape = (N_dim, N_dim, N_parameters))\n",
    "\n",
    "    for i in range(N_parameters):\n",
    "        max_value = np.max((shift_matrix[:,:,i]).flatten())\n",
    "        min_value = np.min((shift_matrix[:,:,i]).flatten()) \n",
    "        normalised_shift[:,:,i] = feature_scaling_norm(shift_matrix[:,:,i],\n",
    "                                                          max_value, min_value)\n",
    "        total_shift[i] = np.sum(normalised_shift[:,:,i])\n",
    "    \n",
    "    #print( normalised_shift[:,:,i])\n",
    "    np.sort(total_shift)\n",
    "    \n",
    "    return total_shift"
   ]
  },
  {
   "cell_type": "markdown",
   "metadata": {},
   "source": [
    "### Point 6"
   ]
  },
  {
   "cell_type": "code",
   "execution_count": null,
   "metadata": {},
   "outputs": [],
   "source": [
    "largest_values(normalised_shift_up, 10)\n",
    "\"\"\"The diagonal elements, especially for parameter w_0\"\"\""
   ]
  },
  {
   "cell_type": "code",
   "execution_count": null,
   "metadata": {},
   "outputs": [],
   "source": [
    "\"\"\"For each matrix individually, the 10 largest biases:\"\"\"\n",
    "j = 0\n",
    "for i in cosmo_params:\n",
    "    print(\"The largest biases for \", i, \"are in the indices: \")\n",
    "    print(largest_values(normalised_shift_up[:,:,j], 10),\"\\n\")\n",
    "    j = j+1"
   ]
  },
  {
   "cell_type": "code",
   "execution_count": null,
   "metadata": {},
   "outputs": [],
   "source": [
    "\"\"\"For the matrix as a whole, the 10 largest biases. \n",
    "To do that, calculate the vector magnitude and check largest bias as a whole\"\"\"\n",
    "shift_vector_magnitudes = np.zeros(shape = (N_dim, N_dim))\n",
    "\n",
    "for i in range(N_dim):\n",
    "    for j in range(i, N_dim):\n",
    "        shift_vector_magnitudes[i,j] = np.sqrt(np.dot(normalised_shift_up[i,j],\n",
    "                                                      normalised_shift_up[i,j]))\n",
    "        \n",
    "print(\"The largest biases in vector magnitude \", i, \"are due to the indices: \\n\",\n",
    "      largest_values(shift_vector_magnitudes, 10))"
   ]
  }
 ],
 "metadata": {
  "kernelspec": {
   "display_name": "Python 3",
   "language": "python",
   "name": "python3"
  },
  "language_info": {
   "codemirror_mode": {
    "name": "ipython",
    "version": 3
   },
   "file_extension": ".py",
   "mimetype": "text/x-python",
   "name": "python",
   "nbconvert_exporter": "python",
   "pygments_lexer": "ipython3",
   "version": "3.6.9"
  }
 },
 "nbformat": 4,
 "nbformat_minor": 4
}
