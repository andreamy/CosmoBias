{
 "cells": [
  {
   "cell_type": "code",
   "execution_count": 2,
   "metadata": {},
   "outputs": [],
   "source": [
    "from scipy.stats import chi2\n",
    "import numpy as np"
   ]
  },
  {
   "cell_type": "code",
   "execution_count": 9,
   "metadata": {},
   "outputs": [],
   "source": [
    "# Some random data and a covariance matrix\n",
    "data = np.random.rand(10)\n",
    "C = np.random.rand(10,10)"
   ]
  },
  {
   "cell_type": "code",
   "execution_count": 19,
   "metadata": {},
   "outputs": [],
   "source": [
    "# My best-fit model, fixed to zero.\n",
    "model = np.full(shape=data.shape, fill_value=0.)"
   ]
  },
  {
   "cell_type": "code",
   "execution_count": 20,
   "metadata": {},
   "outputs": [],
   "source": [
    "Nparameters = 0\n",
    "Ndatapoints = len(data)\n",
    "# Degrees of freedom of my chi2 distribution\n",
    "dof = Ndatapoints - Nparameters"
   ]
  },
  {
   "cell_type": "markdown",
   "metadata": {},
   "source": [
    "The minimum chi2 is the value at which the integral, of a chi2 distribution with $n$ degrees of freedom, with limits from that value to infinity is equal to 0.05 (my hypothesis rejection criterion). \n",
    "$$\n",
    "\\int_{\\chi^2_{\\mathrm{lim}}}^{+\\infty}\\chi^2(x, n)=0.05\n",
    "$$\n",
    "What I am printing below is the point at which the cumulative distribution reaches 0.95, which means\n",
    "$$\n",
    "\\int_0^{\\chi^2_{\\mathrm{lim}}}\\chi^2(x, n)=0.95\n",
    "$$\n",
    "and this gives me the chi2_lim."
   ]
  },
  {
   "cell_type": "code",
   "execution_count": 12,
   "metadata": {},
   "outputs": [
    {
     "name": "stdout",
     "output_type": "stream",
     "text": [
      "Degrees of freedom: 10\n",
      "Minimum chi-square to reject null hypothesis: 18.307\n",
      "\n"
     ]
    }
   ],
   "source": [
    "print('Degrees of freedom: %s' %dof)\n",
    "print('Minimum chi-square to reject null hypothesis: %.3f\\n' %(chi2.ppf(0.95, dof)))"
   ]
  },
  {
   "cell_type": "code",
   "execution_count": 21,
   "metadata": {},
   "outputs": [
    {
     "name": "stdout",
     "output_type": "stream",
     "text": [
      "chi2 = 1.130, p-value = 0.9996988892629514\n"
     ]
    }
   ],
   "source": [
    "vec = np.matrix(data-model)\n",
    "vecT = vec.transpose()\n",
    "\n",
    "# If you obtain the covariance matrix from re-sampling, a correction is needed, called the Hartlap factor.\n",
    "Njk = 1000 # Number of resampled samples (e.g. bootstrap or jackknife samples.)\n",
    "Hartlap_factor = (Njk-dof-2.)/(Njk-1.)\n",
    "\n",
    "chi2measured = ( vec * Hartlap_factor * np.linalg.inv(C) * vecT )[0,0]\n",
    "print('chi2 = %.3f, p-value = %r' %(chi2measured, 1-chi2.cdf(chi2measured, dof)))"
   ]
  },
  {
   "cell_type": "markdown",
   "metadata": {},
   "source": [
    "If the measured chi2 is larger than the chi2_lim, then the p-value will be less than 0.05 and the model hypothesis can be rejected given the data. Otherwise, the hypothesis is not rejected. "
   ]
  },
  {
   "cell_type": "code",
   "execution_count": null,
   "metadata": {},
   "outputs": [],
   "source": []
  }
 ],
 "metadata": {
  "kernelspec": {
   "display_name": "Python 3",
   "language": "python",
   "name": "python3"
  },
  "language_info": {
   "codemirror_mode": {
    "name": "ipython",
    "version": 3
   },
   "file_extension": ".py",
   "mimetype": "text/x-python",
   "name": "python",
   "nbconvert_exporter": "python",
   "pygments_lexer": "ipython3",
   "version": "3.6.9"
  }
 },
 "nbformat": 4,
 "nbformat_minor": 4
}
