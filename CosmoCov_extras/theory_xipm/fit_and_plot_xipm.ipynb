{
 "cells": [
  {
   "cell_type": "code",
   "execution_count": 30,
   "metadata": {},
   "outputs": [],
   "source": [
    "import astropy.io.fits as fits\n",
    "import matplotlib.pyplot as plt\n",
    "import numpy as np\n",
    "import os\n",
    "import glob\n",
    "import natsort"
   ]
  },
  {
   "cell_type": "code",
   "execution_count": 36,
   "metadata": {},
   "outputs": [],
   "source": [
    "#simulation = 'fiducial'\n",
    "simulation = 'mkdir_test3'\n",
    "directory = os.getcwd()+ '/' +simulation + '/'\n",
    "xip_vector = np.array(()) \n",
    "xim_vector = np.array(())\n",
    "listdir = []\n",
    "\n",
    "for file in os.listdir(directory):\n",
    "    if file.startswith(\"xipm\"):\n",
    "        listdir.append(file)\n",
    "        \n",
    "listdir = natsort.natsorted(listdir)        \n",
    "\n",
    "for file in listdir:\n",
    "        #print(file)\n",
    "        data = np.loadtxt(directory+file)\n",
    "        xip = data[:,1]\n",
    "        xim = data[:,2]\n",
    "        xip_vector = np.append(xip_vector, xip)\n",
    "        xim_vector = np.append(xim_vector, xim) \n",
    "                \n",
    "xipm = np.hstack((xip_vector, xim_vector))\n",
    "np.savetxt('mu_' + simulation, xipm)\n",
    "#np.savetxt(\"mu_omega_0.28\", xipm)"
   ]
  },
  {
   "cell_type": "code",
   "execution_count": 39,
   "metadata": {},
   "outputs": [
    {
     "data": {
      "text/plain": [
       "'/home/andrea/ownCloud2/laptop/CosmoCov/covs/xipm'"
      ]
     },
     "execution_count": 39,
     "metadata": {},
     "output_type": "execute_result"
    }
   ],
   "source": [
    "os.getcwd()"
   ]
  },
  {
   "cell_type": "code",
   "execution_count": 40,
   "metadata": {},
   "outputs": [],
   "source": [
    "data = np.loadtxt(\"mkdir_test3/xipm_kids_mkdir_test3_0-0.txt\")\n",
    "theta = data[:,0]\n",
    "xip = data[:,1]\n",
    "xim = data[:,2]"
   ]
  },
  {
   "cell_type": "code",
   "execution_count": 11,
   "metadata": {
    "collapsed": true
   },
   "outputs": [
    {
     "data": {
      "text/plain": [
       "[<matplotlib.lines.Line2D at 0x7f7f9c809ac8>]"
      ]
     },
     "execution_count": 11,
     "metadata": {},
     "output_type": "execute_result"
    },
    {
     "data": {
      "image/png": "[encoded data removed]",
      "text/plain": [
       "<Figure size 432x288 with 1 Axes>"
      ]
     },
     "metadata": {
      "needs_background": "light"
     },
     "output_type": "display_data"
    }
   ],
   "source": [
    "plt.ylabel(r'$\\xi_+ (\\theta)$')\n",
    "plt.xlabel(r'$\\theta(arcmin)$')\n",
    "plt.loglog(theta,xip, '-|', markersize=15)"
   ]
  },
  {
   "cell_type": "code",
   "execution_count": 12,
   "metadata": {
    "collapsed": true
   },
   "outputs": [
    {
     "data": {
      "text/plain": [
       "[<matplotlib.lines.Line2D at 0x7f7f9c510278>]"
      ]
     },
     "execution_count": 12,
     "metadata": {},
     "output_type": "execute_result"
    },
    {
     "data": {
      "image/png": "[encoded data removed]",
      "text/plain": [
       "<Figure size 432x288 with 1 Axes>"
      ]
     },
     "metadata": {
      "needs_background": "light"
     },
     "output_type": "display_data"
    }
   ],
   "source": [
    "plt.ylabel(r'$\\xi_- (\\theta)$')\n",
    "plt.xlabel(r'$\\theta(arcmin)$')\n",
    "plt.loglog(theta,xim,'-|', markersize=15)"
   ]
  },
  {
   "cell_type": "markdown",
   "metadata": {},
   "source": [
    " "
   ]
  },
  {
   "cell_type": "markdown",
   "metadata": {},
   "source": [
    " "
   ]
  },
  {
   "cell_type": "code",
   "execution_count": 41,
   "metadata": {
    "scrolled": true
   },
   "outputs": [
    {
     "data": {
      "text/plain": [
       "array([  0.7133649,   1.452096 ,   2.955825 ,   6.016753 ,  12.24745  ,\n",
       "        24.93039  ,  50.74726  , 103.299    , 210.2711   ])"
      ]
     },
     "execution_count": 41,
     "metadata": {},
     "output_type": "execute_result"
    }
   ],
   "source": [
    "theta #FROM DATA VECTOR"
   ]
  },
  {
   "cell_type": "code",
   "execution_count": 43,
   "metadata": {},
   "outputs": [
    {
     "data": {
      "text/plain": [
       "(array([0.00020751, 0.0004224 , 0.00085981, 0.0017502 , 0.00356264,\n",
       "        0.00725196, 0.01476178, 0.03004846, 0.06116538]),\n",
       " 0.10181087303300256)"
      ]
     },
     "execution_count": 43,
     "metadata": {},
     "output_type": "execute_result"
    }
   ],
   "source": [
    "#same in radians\n",
    "theta/180*np.pi/60, 350/180*np.pi/60"
   ]
  },
  {
   "cell_type": "markdown",
   "metadata": {},
   "source": [
    "THETA FROM COSMOLIKE GIVEN 0.5 AND 300, used in computation of covmat AND in xipm (they are calculated twice but they are the same, checked), but different from t1 and t2. \n",
    "*xipm file was added later so probably it didnt have a link to the main code and that's why they calculated the thetas again. This means that the thetas used to compute xipm are different than the ones printed in the files, but maybe they are alright because they are used as well in the covmat. They are not very close to the KiDS ones however:\n",
    "\n",
    "#### Kids thetas: \n",
    "        array([  0.7133649,   1.452096 ,   2.955825 ,   6.016753 ,  12.24745  ,\n",
    "        24.93039  ,  50.74726  , 103.299    , 210.2711   ])\n",
    "        \n",
    "#### Cosmolike thetas (used when computing Legendre polinomial :\n",
    "        array([  0.49999999,   1.01777897,   2.07174812,   4.21716303, 8.58428058, \n",
    "        17.47379869, 35.56892198, 72.40262538, 147.37974494, 299.99999106]) \n",
    "\n",
    "It can be obtained from function set_angular_binning() in init.c\n",
    "\n",
    "#### It seems like cosmolike uses tmin and tmax as center bins because they are plugged in into Legendre polynomials calculations (is this right?), but 0.5 and 300 are edge bins. This may be what makes things wrong. Ironically, the chi-square test is 4 units smaller (278 to 274) when we use this instead of 0.46 and 271.25. Furthermore, trying tmin=0.73 and tmax=210.27 (as Kids first and last bin), works worse, chi-square = 300.  And inputting directly the KiDS array of thetas to the xipm computation makes it also worse, with chi-square = 289.5\n",
    "\n",
    "### UPDATE: cosmolike uses lower bin boundaries.  \n",
    "##### (from covariances_real_binned_full_sky_non_limber.c) : The vector called \"theta\" contains theta_min, the lower bin boundaries. This is used in the bin-average and shot/shape noise computation\n",
    "\n",
    "Using the centered thetas returns the same values as KiDS, so that is corrected. However the chi-square is worse. Sent email to Xiao asking about different theta calculations."
   ]
  },
  {
   "cell_type": "code",
   "execution_count": 44,
   "metadata": {},
   "outputs": [
    {
     "data": {
      "text/plain": [
       "array([  0.49999999,   1.01777897,   2.07174812,   4.21716303,\n",
       "         8.58428058,  17.47379869,  35.56892198,  72.40262538,\n",
       "       147.37974494, 299.99999106])"
      ]
     },
     "execution_count": 44,
     "metadata": {},
     "output_type": "execute_result"
    }
   ],
   "source": [
    "#for some reason cosmolike uses a vector of 10 components even though Ntheta = 9, and that is the general output\n",
    "covmat_thetas = np.array([1.454441e-4, 2.960599e-4, 6.026471e-4, 1.226723e-3, 2.497066e-3, \n",
    "                 5.082922e-3, 1.034658e-2, 2.106107e-2, 4.287103e-2, 8.726646e-2] )\n",
    "\n",
    "#np.round(covmat_thetas*180/np.pi*60, 2)\n",
    "covmat_thetas*180/np.pi*60"
   ]
  },
  {
   "cell_type": "markdown",
   "metadata": {},
   "source": [
    "THETA FROM COSMOLIKE GIVEN 0.5 AND 300, printed in files (t1 and t2, not used elsewhere)"
   ]
  },
  {
   "cell_type": "code",
   "execution_count": 17,
   "metadata": {
    "scrolled": false
   },
   "outputs": [
    {
     "data": {
      "text/plain": [
       "array([  0.78832896,   1.60468931,   3.26643766,   6.6490251 ,\n",
       "        13.53447092,  27.55020232,  56.08003183, 114.15416305,\n",
       "       232.36741121])"
      ]
     },
     "execution_count": 17,
     "metadata": {},
     "output_type": "execute_result"
    }
   ],
   "source": [
    "theta_cosmocov_rad = np.loadtxt(\"/home/andrea/ownCloud2/laptop/CosmoCov/covs/output/tmax_300_tmin_0.5/order_kids1000_i_0-8\")[:,1]\n",
    "theta_cosmocov_rad*180/np.pi*60\n",
    "#with 0.46 and 271.25 is the closest to kids"
   ]
  },
  {
   "cell_type": "markdown",
   "metadata": {},
   "source": [
    " "
   ]
  },
  {
   "cell_type": "markdown",
   "metadata": {},
   "source": [
    " "
   ]
  },
  {
   "cell_type": "markdown",
   "metadata": {},
   "source": [
    "THETA FROM SIMPLE LOGSPACE DISTRIBUTION IN PYTHON"
   ]
  },
  {
   "cell_type": "code",
   "execution_count": 40,
   "metadata": {},
   "outputs": [
    {
     "name": "stdout",
     "output_type": "stream",
     "text": [
      "0.7588894892666437\n",
      "1.5447635384109053\n",
      "3.144455712398635\n",
      "6.400721846016486\n",
      "13.02904028462871\n",
      "26.52136662431692\n",
      "53.98577886440819\n",
      "109.89118173588258\n",
      "223.68986939392477\n"
     ]
    }
   ],
   "source": [
    "bin_edges = np.logspace(np.log10(0.5),np.log10(300.0),num=10)\n",
    "\n",
    "for i in range(9):\n",
    "    bin_center = (bin_edges[i+1]-bin_edges[i])/2 + bin_edges[i]\n",
    "    print(bin_center)"
   ]
  },
  {
   "cell_type": "code",
   "execution_count": 38,
   "metadata": {},
   "outputs": [],
   "source": [
    "const = np.log10(theta[3])- np.log10(theta[2])\n",
    "theta_centre = theta[0]\n",
    "log_theta_left = np.log10(theta_centre) - const/2\n",
    "log_theta_right = const + log_theta_left"
   ]
  },
  {
   "cell_type": "code",
   "execution_count": 39,
   "metadata": {
    "scrolled": true
   },
   "outputs": [
    {
     "name": "stdout",
     "output_type": "stream",
     "text": [
      "0.4999999998093066 1.0177789614921875\n"
     ]
    }
   ],
   "source": [
    "theta_left = 10**(log_theta_left)\n",
    "theta_right = 10**(log_theta_right)\n",
    "print(theta_left, theta_right)"
   ]
  },
  {
   "cell_type": "code",
   "execution_count": null,
   "metadata": {},
   "outputs": [],
   "source": [
    "\"\"\"//wrong but maybe useful later (in line 177 of xipm cosmo code)\n",
    "        /*double logdt_test = (log(271.25)-log(0.46))/like.Ntheta;\n",
    "\t\tdouble *theta;\n",
    "\t\ttheta = create_double_vector(0, like.Ntheta-1);\n",
    "\t\t// vtmin = tmin in radians, same for vtmax and tmax\n",
    "\t\tfor(i=0;i<like.Ntheta ; i++){\n",
    "\t\t    theta[i] = (exp(log(0.46)+(i+0.0)*logdt_test));\n",
    "\t\t    printf(\"theta[%d] = %le\\n\", i, theta[i]);\n",
    "\t\t}*/\n",
    "\"\"\""
   ]
  },
  {
   "cell_type": "code",
   "execution_count": 19,
   "metadata": {},
   "outputs": [
    {
     "name": "stdout",
     "output_type": "stream",
     "text": [
      "0 0.7588894892666437\n",
      "1 1.541786739776671\n",
      "2 3.132348496812498\n",
      "3 6.363790044597695\n",
      "4 12.928901037969322\n",
      "5 26.266812839230216\n",
      "6 53.36458641805143\n",
      "7 108.41738207828719\n",
      "8 220.26458979045358\n"
     ]
    }
   ],
   "source": [
    "tmin_center = 0.7588894892666437\n",
    "tmax_center = 223.68986939392477\n",
    "ogdt_test = (np.log(tmax_center)-np.log(tmin_center))/9;\n",
    "\n",
    "theta = np.zeros((9,));\n",
    "\n",
    "for i in range(9):\n",
    "    theta[i] = (np.exp(np.log(tmin_center)+(i+0.0)*logdt_test));\n",
    "    print( i, theta[i]);"
   ]
  },
  {
   "cell_type": "markdown",
   "metadata": {},
   "source": [
    " "
   ]
  }
 ],
 "metadata": {
  "kernelspec": {
   "display_name": "Python 3",
   "language": "python",
   "name": "python3"
  },
  "language_info": {
   "codemirror_mode": {
    "name": "ipython",
    "version": 3
   },
   "file_extension": ".py",
   "mimetype": "text/x-python",
   "name": "python",
   "nbconvert_exporter": "python",
   "pygments_lexer": "ipython3",
   "version": "3.6.9"
  }
 },
 "nbformat": 4,
 "nbformat_minor": 4
}
